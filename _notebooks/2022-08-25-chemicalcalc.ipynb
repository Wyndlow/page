{
 "cells": [
  {
   "cell_type": "markdown",
   "id": "abadf068",
   "metadata": {},
   "source": [
    "# Chemical Calculator\n",
    "> Prototype for a calculator for molar mass\n",
    "- categories: [pbl]\n"
   ]
  },
  {
   "cell_type": "code",
   "execution_count": 2,
   "id": "67a3f72f",
   "metadata": {},
   "outputs": [
    {
     "name": "stdout",
     "output_type": "stream",
     "text": [
      "Enter atomic number of element, -1 to finish:\n",
      "Enter amount of element:\n",
      "Enter atomic number of element, -1 to finish:\n",
      "4.032 amu\n"
     ]
    }
   ],
   "source": [
    "import java.util.Scanner;\n",
    "\n",
    "public class Chemicals{\n",
    "\n",
    "    public String chemical(int atomicNum){\n",
    "        String[] abbrev = {\"H\", \"He\"};\n",
    "\n",
    "        return abbrev[atomicNum-1];\n",
    "    }\n",
    "\n",
    "    private static double molarMass(int atomicNum){\n",
    "        double[] amu = {1.008, 4.0026};\n",
    "\n",
    "        return amu[atomicNum];\n",
    "    }\n",
    "\n",
    "    private static double calculator(){\n",
    "        Scanner input;\n",
    "        double sum = 0;\n",
    "        int atomicNum = 0;\n",
    "        input = new Scanner(System.in);\n",
    "        int mols;\n",
    "        while(atomicNum != -1){\n",
    "            System.out.println(\"Enter atomic number of element, -1 to finish:\");\n",
    "            atomicNum = input.nextInt();\n",
    "            if (atomicNum == -1){\n",
    "                break;\n",
    "            } else {\n",
    "                System.out.println(\"Enter amount of element:\");\n",
    "                mols = input.nextInt();\n",
    "                sum += (molarMass(atomicNum - 1) * mols); //This is an instance where the +=\n",
    "                //operator is used. This adds the value of molarMass(atomicNum-1) * mols to the already existent\n",
    "                //value of sum. \n",
    "            }\n",
    "        }\n",
    "        input.close();\n",
    "        return sum;\n",
    "    }\n",
    "\n",
    "    public static void main(String[] args){\n",
    "        double endValue = calculator();\n",
    "        System.out.println(endValue + \" amu\");\n",
    "        \n",
    "    }\n",
    "}\n",
    "Chemicals.main(null);"
   ]
  }
 ],
 "metadata": {
  "kernelspec": {
   "display_name": "Java",
   "language": "java",
   "name": "java"
  },
  "language_info": {
   "codemirror_mode": "java",
   "file_extension": ".jshell",
   "mimetype": "text/x-java-source",
   "name": "java",
   "pygments_lexer": "java",
   "version": "11.0.16+8-post-Ubuntu-0ubuntu120.04"
  }
 },
 "nbformat": 4,
 "nbformat_minor": 5
}
