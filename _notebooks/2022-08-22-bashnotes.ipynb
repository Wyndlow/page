{
 "cells": [
  {
   "cell_type": "markdown",
   "metadata": {},
   "source": [
    "# Bash Notes"
   ]
  },
  {
   "cell_type": "markdown",
   "metadata": {},
   "source": [
    "## Basic Commands\n",
    "**ls**: Lists computer files in Unix operating systems\n",
    "\n",
    "**cd**: Navigate and change working directory\n",
    "\n",
    "**pwd**: Print working directory\n",
    "\n",
    "![]({{site.baseurl}}/pwdExample.png \"pwd Example\")\n",
    "\n",
    "**echo**: Displays a string passed as an argument.\n",
    "\n",
    "**cat**: Reads data from the file and gives its contents as output\n",
    "\n",
    "**env**: Show setting for my shell\n",
    "\n",
    "**git clone**: Sets up a director of files\n",
    "\n",
    "**cd $project**: Allows user to move inside that directory of files\n",
    "\n",
    "[^1]: .git: A hidden directory that is used by git to establish relationship between machine and git server on Github"
   ]
  }
 ],
 "metadata": {
  "kernelspec": {
   "display_name": "Python 3.8.10 64-bit",
   "language": "python",
   "name": "python3"
  },
  "language_info": {
   "name": "python",
   "version": "3.8.10"
  },
  "orig_nbformat": 4,
  "vscode": {
   "interpreter": {
    "hash": "916dbcbb3f70747c44a77c7bcd40155683ae19c65e1c03b4aa3499c5328201f1"
   }
  }
 },
 "nbformat": 4,
 "nbformat_minor": 2
}
