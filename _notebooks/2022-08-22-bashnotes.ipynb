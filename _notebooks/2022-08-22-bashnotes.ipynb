{
 "cells": [
  {
   "cell_type": "markdown",
   "metadata": {},
   "source": [
    "# Bash Notes"
   ]
  },
  {
   "cell_type": "markdown",
   "metadata": {},
   "source": [
    "## Basic Commands\n",
    "**ls**: Lists computer files in Unix operating systems\n",
    "\n",
    "**cd**: Navigate and change working directory\n",
    "\n",
    "**pwd**: Print working directory\n",
    "\n",
    "![]({{site.baseurl}}/pwdExample.png \"pwd Example\")\n",
    "\n",
    "**echo**: Displays a string passed as an argument.\n",
    "\n",
    "**cat**: Reads data from the file and gives its contents as output\n",
    "\n",
    "**env**: Show setting for my shell\n",
    "\n",
    "**git clone**: Sets up a director of files\n",
    "\n",
    "**cd $project**: Allows user to move inside that directory of files\n",
    "\n",
    "[^1]: .git: A hidden directory that is used by git to establish relationship between machine and git server on Github"
   ]
  },
  {
   "cell_type": "code",
   "execution_count": 3,
   "metadata": {
    "vscode": {
     "languageId": "shellscript"
    }
   },
   "outputs": [
    {
     "name": "stdout",
     "output_type": "stream",
     "text": [
      "Python 3.9.12\n",
      "Python 2.7.18\n",
      "Selected Jupyter core packages...\n",
      "IPython          : 8.2.0\n",
      "ipykernel        : 6.15.1\n",
      "ipywidgets       : 7.6.5\n",
      "jupyter_client   : 6.1.12\n",
      "jupyter_core     : 4.9.2\n",
      "jupyter_server   : 1.13.5\n",
      "jupyterlab       : 3.3.2\n",
      "nbclient         : 0.5.13\n",
      "nbconvert        : 6.4.4\n",
      "nbformat         : 5.3.0\n",
      "notebook         : 6.4.8\n",
      "qtconsole        : 5.3.0\n",
      "traitlets        : 5.1.1\n"
     ]
    }
   ],
   "source": [
    "export project_dir=$HOME/vscode\n",
    "export project=$project_dir/page\n",
    "export project_repo=\"https://github.com/Wyndlow/page.git\"\n",
    "\n",
    "cd ~\n",
    "\n",
    "if [! -d $project_dir]\n",
    "then\n",
    "    echo \"Directory $project_dir does not exists\"\n",
    "fi\n",
    "\n",
    "if [ ! -d $project]\n",
    "then {\n",
    "    echo \"Directory $project does not exists\"\n",
    "    cd ~\n",
    "}\n",
    "fi\n",
    "\n",
    "python --version\n",
    "python2 --version\n",
    "jupyter --version"
   ]
  }
 ],
 "metadata": {
  "kernelspec": {
   "display_name": "Bash",
   "language": "bash",
   "name": "bash"
  },
  "language_info": {
   "codemirror_mode": "shell",
   "file_extension": ".sh",
   "mimetype": "text/x-sh",
   "name": "bash"
  },
  "orig_nbformat": 4,
  "vscode": {
   "interpreter": {
    "hash": "916dbcbb3f70747c44a77c7bcd40155683ae19c65e1c03b4aa3499c5328201f1"
   }
  }
 },
 "nbformat": 4,
 "nbformat_minor": 2
}
