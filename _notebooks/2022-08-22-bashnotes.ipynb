{
 "cells": [
  {
   "cell_type": "markdown",
   "metadata": {},
   "source": [
    "# Bash Notes"
   ]
  },
  {
   "cell_type": "markdown",
   "metadata": {},
   "source": [
    "## Basic Commands\n",
    "**ls**: Lists computer files in Unix operating systems\n",
    "\n",
    "**cd**: Navigate and change working directory\n",
    "\n",
    "**pwd**: Print working directory\n",
    "\n",
    "![]({{site.baseurl}}/pwdExample.png \"pwd Example\")\n",
    "\n",
    "**echo**: Displays a string passed as an argument.\n",
    "\n",
    "**cat**: Reads data from the file and gives its contents as output\n",
    "\n",
    "**env**: Show setting for my shell\n",
    "\n",
    "**git clone**: Sets up a director of files\n",
    "\n",
    "**cd $project**: Allows user to move inside that directory of files\n",
    "\n",
    "[^1]: .git: A hidden directory that is used by git to establish relationship between machine and git server on Github\n",
    "\n",
    "[Bash Commands](https://www.pcwdld.com/bash-cheat-sheet)"
   ]
  },
  {
   "cell_type": "code",
   "execution_count": 2,
   "metadata": {
    "vscode": {
     "languageId": "shellscript"
    }
   },
   "outputs": [
    {
     "name": "stdout",
     "output_type": "stream",
     "text": [
      "Python 3.9.12\n",
      "Python 2.7.18\n",
      "anaconda Command line client (version 1.9.0)\n",
      "openjdk 11.0.16 2022-07-19\n",
      "OpenJDK Runtime Environment (build 11.0.16+8-post-Ubuntu-0ubuntu120.04)\n",
      "OpenJDK 64-Bit Server VM (build 11.0.16+8-post-Ubuntu-0ubuntu120.04, mixed mode, sharing)\n",
      "Selected Jupyter core packages...\n",
      "IPython          : 8.2.0\n",
      "ipykernel        : 6.15.1\n",
      "ipywidgets       : 7.6.5\n",
      "jupyter_client   : 6.1.12\n",
      "jupyter_core     : 4.9.2\n",
      "jupyter_server   : 1.13.5\n",
      "jupyterlab       : 3.3.2\n",
      "nbclient         : 0.5.13\n",
      "nbconvert        : 6.4.4\n",
      "nbformat         : 5.3.0\n",
      "notebook         : 6.4.8\n",
      "qtconsole        : 5.3.0\n",
      "traitlets        : 5.1.1\n",
      "\u001b[01;31m\u001b[Kjupyter\u001b[m\u001b[K                   1.0.0            py39h06a4308_7  \n",
      "\u001b[01;31m\u001b[Kjupyter\u001b[m\u001b[K_client            6.1.12             pyhd3eb1b0_0  \n",
      "\u001b[01;31m\u001b[Kjupyter\u001b[m\u001b[K_console           6.4.0              pyhd3eb1b0_0  \n",
      "\u001b[01;31m\u001b[Kjupyter\u001b[m\u001b[K_core              4.9.2            py39h06a4308_0  \n",
      "\u001b[01;31m\u001b[Kjupyter\u001b[m\u001b[K_server            1.13.5             pyhd3eb1b0_0  \n",
      "\u001b[01;31m\u001b[Kjupyter\u001b[m\u001b[Klab                3.3.2              pyhd3eb1b0_0  \n",
      "\u001b[01;31m\u001b[Kjupyter\u001b[m\u001b[Klab_pygments       0.1.2                      py_0  \n",
      "\u001b[01;31m\u001b[Kjupyter\u001b[m\u001b[Klab_server         2.10.3             pyhd3eb1b0_1  \n",
      "\u001b[01;31m\u001b[Kjupyter\u001b[m\u001b[Klab_widgets        1.0.0              pyhd3eb1b0_1  \n"
     ]
    }
   ],
   "source": [
    "\n",
    "python --version\n",
    "python2 --version\n",
    "anaconda --version\n",
    "java --version\n",
    "jupyter --version\n",
    "\n",
    "conda list | grep jupyter"
   ]
  }
 ],
 "metadata": {
  "kernelspec": {
   "display_name": "Bash",
   "language": "bash",
   "name": "bash"
  },
  "language_info": {
   "codemirror_mode": "shell",
   "file_extension": ".sh",
   "mimetype": "text/x-sh",
   "name": "bash"
  },
  "orig_nbformat": 4,
  "vscode": {
   "interpreter": {
    "hash": "916dbcbb3f70747c44a77c7bcd40155683ae19c65e1c03b4aa3499c5328201f1"
   }
  }
 },
 "nbformat": 4,
 "nbformat_minor": 2
}
