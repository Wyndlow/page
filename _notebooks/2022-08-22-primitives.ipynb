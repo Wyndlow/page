{
 "cells": [
  {
   "cell_type": "markdown",
   "metadata": {},
   "source": [
    "---\n",
    "toc: true\n",
    "title: Primitives\n",
    "---\n",
    "# Primitives and Java Notation\n",
    "Boolean - boolean\n",
    "\n",
    "Character - char\n",
    "\n",
    "Integer - byte, short, int, long, float\n",
    "\n",
    "Floating-Point - float, double\n",
    "*Float has a precision of 7 total numbers*\n",
    "\n",
    "Capitalized data types are not primitives (String, Arrays, Structures, etc.)\n",
    "*These are Objects, primitives are not objects*\n",
    "*They have setters, getters, and manipulation*\n",
    "# Lecture Notes\n",
    "**Hard Coded vs. Dynamic**\n",
    "Hard Coded: Variables are predetermined and unchangeable outside of the code.\n",
    "\n",
    "Dynamic: Are variable, like by user input.\n"
   ]
  },
  {
   "cell_type": "code",
   "execution_count": 41,
   "metadata": {
    "vscode": {
     "languageId": "java"
    }
   },
   "outputs": [
    {
     "name": "stdout",
     "output_type": "stream",
     "text": [
      "Input name of patient:\n",
      "Input age of patient:\n",
      "Input weight of patient:\n",
      "Input weight of patient:\n",
      "Not true or false, java.util.InputMismatchException\n",
      "Name: Ahh\n",
      "Age: 202\n",
      "Weight 1.2\n",
      "Insured: false\n"
     ]
    }
   ],
   "source": [
    "import java.util.Scanner;\n",
    "\n",
    "public class MedicalRecord{\n",
    "    public String name(){\n",
    "        Scanner input;\n",
    "        input = new Scanner(System.in);\n",
    "        String inputName = \"temp\";\n",
    "        System.out.println(\"Input name of patient:\");\n",
    "        try {\n",
    "            inputName = input.nextLine();\n",
    "\n",
    "        } catch (Exception e) {\n",
    "            System.out.println(\"Not a valid name, \" +e);\n",
    "    \n",
    "        }\n",
    "        input.close();\n",
    "        return inputName;\n",
    "    }\n",
    "    public int age(){\n",
    "        Scanner input;\n",
    "        input = new Scanner(System.in);\n",
    "        int inputAge = 0;\n",
    "        System.out.println(\"Input age of patient:\");\n",
    "        try {\n",
    "            inputAge = input.nextInt();\n",
    "\n",
    "        } catch (Exception e) {\n",
    "            System.out.println(\"Not a valid age, \" +e);\n",
    "    \n",
    "        }\n",
    "        input.close();\n",
    "        return inputAge;\n",
    "    }\n",
    "    public float weight(){\n",
    "        Scanner input;\n",
    "        input = new Scanner(System.in);\n",
    "        float inputWeight = 0;\n",
    "        System.out.println(\"Input weight of patient:\");\n",
    "        try {\n",
    "            inputWeight = input.nextFloat();\n",
    "\n",
    "        } catch (Exception e) {\n",
    "            System.out.println(\"Not a valid weight, \" +e);\n",
    "    \n",
    "        }\n",
    "        input.close();\n",
    "        return inputWeight;\n",
    "    }\n",
    "    private boolean insurance(){\n",
    "        Scanner input;\n",
    "        input = new Scanner(System.in);\n",
    "        boolean inputInsurance = unknown;\n",
    "        System.out.println(\"Input weight of patient:\");\n",
    "        try {\n",
    "            inputInsurance = input.nextBoolean();\n",
    "\n",
    "        } catch (Exception e) {\n",
    "            System.out.println(\"Not true or false, \" +e);\n",
    "    \n",
    "        }\n",
    "        input.close();\n",
    "        return inputInsurance;\n",
    "    }\n",
    "    public static void main(String[] args){\n",
    "        MedicalRecord record = new MedicalRecord();\n",
    "        String name = record.name();\n",
    "        int age = record.age();\n",
    "        float weight = record.weight();\n",
    "        boolean insured = record.insurance();\n",
    "        System.out.println(\"Name: \" + name);\n",
    "        System.out.println(\"Age: \" + age);\n",
    "        System.out.println(\"Weight \" + weight);\n",
    "        System.out.println(\"Insured: \" + insured);\n",
    "    }\n",
    "}\n",
    "\n",
    "MedicalRecord.main(null);"
   ]
  }
 ],
 "metadata": {
  "kernelspec": {
   "display_name": "Java",
   "language": "java",
   "name": "java"
  },
  "language_info": {
   "codemirror_mode": "java",
   "file_extension": ".jshell",
   "mimetype": "text/x-java-source",
   "name": "Java",
   "pygments_lexer": "java",
   "version": "11.0.16+8-post-Ubuntu-0ubuntu120.04"
  },
  "orig_nbformat": 4,
  "vscode": {
   "interpreter": {
    "hash": "916dbcbb3f70747c44a77c7bcd40155683ae19c65e1c03b4aa3499c5328201f1"
   }
  }
 },
 "nbformat": 4,
 "nbformat_minor": 2
}
