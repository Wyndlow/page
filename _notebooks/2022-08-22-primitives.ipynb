{
 "cells": [
  {
   "cell_type": "code",
   "execution_count": null,
   "metadata": {
    "vscode": {
     "languageId": "java"
    }
   },
   "outputs": [],
   "source": []
  },
  {
   "cell_type": "markdown",
   "metadata": {},
   "source": [
    "---\n",
    "toc: true\n",
    "title: Primitives\n",
    "---\n",
    "# Primitives and Java Notation\n",
    "Boolean - boolean\n",
    "\n",
    "Character - char\n",
    "\n",
    "Integer - byte, short, int, long, float\n",
    "\n",
    "Floating-Point - float, double\n",
    "*Float has a precision of 7 total numbers*\n",
    "\n",
    "Capitalized data types are not primitives (String, Arrays, Structures, etc.)\n",
    "*These are Objects, primitives are not objects*\n",
    "*They have setters, getters, and manipulation*\n",
    "# Lecture Notes\n",
    "**Hard Coded vs. Dynamic**\n",
    "Hard Coded: Variables are predetermined and unchangeable outside of the code.\n",
    "\n",
    "Dynamic: Are variable, like by user input.\n"
   ]
  },
  {
   "cell_type": "code",
   "execution_count": 27,
   "metadata": {
    "vscode": {
     "languageId": "java"
    }
   },
   "outputs": [
    {
     "name": "stdout",
     "output_type": "stream",
     "text": [
      "Input name of patient:\n"
     ]
    }
   ],
   "source": [
    "public class DataCollection{\n",
    "    public static void Name(){\n",
    "        Scanner input;\n",
    "        input = new Scanner(System.in);\n",
    "        System.out.println(\"Input name of patient:\");\n",
    "        try {\n",
    "            String inputName = input.nextLine();\n",
    "\n",
    "        } catch (Exception e) {\n",
    "            System.out.println(\"Not a valid name, \" +e);\n",
    "    \n",
    "        }\n",
    "        input.close();\n",
    "    }\n",
    "}\n",
    "public class MedicalRecord{\n",
    "    public static void main(String[] args){\n",
    "        String patient = inputName;\n",
    "    }\n",
    "}\n",
    "\n",
    "DataCollection.Name();\n",
    "MedicalRecord.main(null);"
   ]
  }
 ],
 "metadata": {
  "kernelspec": {
   "display_name": "Java",
   "language": "java",
   "name": "java"
  },
  "language_info": {
   "codemirror_mode": "java",
   "file_extension": ".jshell",
   "mimetype": "text/x-java-source",
   "name": "Java",
   "pygments_lexer": "java",
   "version": "11.0.16+8-post-Ubuntu-0ubuntu120.04"
  },
  "orig_nbformat": 4,
  "vscode": {
   "interpreter": {
    "hash": "916dbcbb3f70747c44a77c7bcd40155683ae19c65e1c03b4aa3499c5328201f1"
   }
  }
 },
 "nbformat": 4,
 "nbformat_minor": 2
}
