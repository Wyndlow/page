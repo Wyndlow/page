{
 "cells": [
  {
   "cell_type": "markdown",
   "metadata": {},
   "source": [
    "# Code.Org Progress\n",
    "> Screenshots and notes from Code.org Lessons\n",
    "\n",
    "- categories: [jupyter]\n",
    "- toc: true\n"
   ]
  },
  {
   "cell_type": "markdown",
   "metadata": {},
   "source": [
    "# Lesson 1\n",
    "**Software Engineer**: Person who designs, develops, and tests software for home, school, and business use. "
   ]
  },
  {
   "cell_type": "markdown",
   "metadata": {},
   "source": [
    "## Lesson 2\n",
    "\n",
    "![]({{site.baseurl}}/images/Code_Org_Lesson2.png \"Lesson 2\")"
   ]
  },
  {
   "cell_type": "markdown",
   "metadata": {},
   "source": [
    "## Lesson 3\n",
    "\n",
    "![]({{site.baseurl}}/images/Code_Org_Lesson3.png \"Lesson 3\")"
   ]
  },
  {
   "cell_type": "markdown",
   "metadata": {},
   "source": [
    "## Lesson 4\n",
    "Argument vs. Parameter:\n",
    "An Argument is a value passed to a method or constructor when the method or constructor is called.\n",
    "\n",
    "A Parameter is a variable in a method or constructor signature that defines the type of value to receive when the method or constructor is called.\n",
    "\n",
    "Effectively the difference between when it is utilized. Parameter is coded in, while the argument is passed when the method/constructor is called.\n",
    "\n",
    "![]({{site.baseurl}}/images/Code_Org_Lesson4.png \"Lesson 4\")"
   ]
  },
  {
   "cell_type": "markdown",
   "metadata": {},
   "source": [
    "## Lesson 5\n",
    "\n",
    "![]({{site.baseurl}}/images/Code_Org_Lesson5.png \"Lesson 5\")"
   ]
  }
 ],
 "metadata": {
  "kernelspec": {
   "display_name": "Python 3.8.10 64-bit",
   "language": "python",
   "name": "python3"
  },
  "language_info": {
   "name": "python",
   "version": "3.8.10"
  },
  "orig_nbformat": 4,
  "vscode": {
   "interpreter": {
    "hash": "916dbcbb3f70747c44a77c7bcd40155683ae19c65e1c03b4aa3499c5328201f1"
   }
  }
 },
 "nbformat": 4,
 "nbformat_minor": 2
}
