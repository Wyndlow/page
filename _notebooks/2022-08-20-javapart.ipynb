{
 "cells": [
  {
   "cell_type": "markdown",
   "metadata": {},
   "source": [
    "# Java"
   ]
  },
  {
   "cell_type": "markdown",
   "metadata": {},
   "source": [
    "## Object-Oriented Programming(OOP)\n",
    " An Approach to creating and using models of physical or imagined objects\n",
    "\n",
    "## Class: \n",
    "A Programmer-defined blueprint from which objects are created.\n",
    "A blueprint for how to create an instance of itself\n",
    "\n",
    "**Attributes**: Characteristics of an Object\n",
    "\n",
    "**Behaviors**: Actions that an object can perform\n",
    "\n",
    "**Object**: An instance of the class\n",
    "\n",
    "**Instantiate**: To call the constructor to create an object\n",
    "\n",
    "**Constructor**: A block of code that has the same name as the class and tells the computer how to create a new object.\n",
    "\n",
    "**Reference Variable**: A variable that points to an object\n",
    "\n",
    "**State**: The Attributes represented by the object's instance variables\n",
    "\n",
    "## Camel Case: \n",
    "Naming convention where the first letter of the first word is upper or lowercase, and the first letter of each additional word is uppercase\n",
    "\n",
    "## Calling Methods\n",
    "**Methods**: A named set of instructions to perform a task\n",
    "\n",
    "**Parameter**: A variable in the method that defines the type of value to receive when the method is called.\n",
    "\n",
    "Begins with the name of the object, a dot operator, name of the method, and an argument within parentheses\n",
    "\n",
    "**Dot Operator**: Used to call a method in a class\n",
    "\n",
    "**Argument**: Value passed to a method when the method is called.\n",
    "\n",
    "### Types of Values\n",
    "1. **Numbers**: Integers, Floats, Doubles\n",
    "1. **Text**: String, Characters\n",
    "1. **True or False**: Boolean\n",
    "\n",
    "\n",
    "*Taken from CSA: Object-Oriented Programming, CSA: Creating Objects, and CSA: Calling Methods by Code.org*"
   ]
  },
  {
   "cell_type": "code",
   "execution_count": 1,
   "metadata": {},
   "outputs": [
    {
     "name": "stdout",
     "output_type": "stream",
     "text": [
      "Hello\n"
     ]
    }
   ],
   "source": [
    "System.out.println(\"Hello\")"
   ]
  },
  {
   "cell_type": "code",
   "execution_count": 2,
   "metadata": {},
   "outputs": [
    {
     "name": "stdout",
     "output_type": "stream",
     "text": [
      "A\n",
      "B\n",
      "C\n",
      "D\n",
      "E\n",
      "F\n",
      "G\n",
      "H\n",
      "I\n",
      "J\n",
      "K\n",
      "L\n",
      "M\n",
      "N\n",
      "O\n",
      "P\n",
      "Q\n",
      "R\n",
      "S\n",
      "T\n",
      "U\n",
      "V\n",
      "W\n",
      "X\n",
      "Y\n",
      "Z\n"
     ]
    }
   ],
   "source": [
    "char output = 'A';\n",
    "for (int i = 0; i < 26; i++){\n",
    "    System.out.println(output);\n",
    "    output++;\n",
    "}"
   ]
  },
  {
   "cell_type": "code",
   "execution_count": 17,
   "metadata": {},
   "outputs": [
    {
     "name": "stdout",
     "output_type": "stream",
     "text": [
      "Testing\n",
      "3\n"
     ]
    }
   ],
   "source": [
    "\n",
    "static void test(){\n",
    "    System.out.println(\"Testing\");\n",
    "}\n",
    "static void number(){\n",
    "    System.out.println(\"3\");\n",
    "}\n",
    "public static void main(){\n",
    "    test();\n",
    "    number();\n",
    "}\n",
    "main();"
   ]
  }
 ],
 "metadata": {
  "kernelspec": {
   "display_name": "Java",
   "language": "java",
   "name": "java"
  },
  "language_info": {
   "codemirror_mode": "java",
   "file_extension": ".jshell",
   "mimetype": "text/x-java-source",
   "name": "java",
   "pygments_lexer": "java",
   "version": "11.0.16+8-post-Ubuntu-0ubuntu120.04"
  },
  "orig_nbformat": 4,
  "vscode": {
   "interpreter": {
    "hash": "f1a07173de9e45ae77428ad21e722ac547f9bf5feaf07dd7a32704a7f43ed07e"
   }
  }
 },
 "nbformat": 4,
 "nbformat_minor": 2
}
