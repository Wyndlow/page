{
 "cells": [
  {
   "cell_type": "markdown",
   "metadata": {},
   "source": [
    "# Java"
   ]
  },
  {
   "cell_type": "markdown",
   "metadata": {},
   "source": [
    "## Object-Oriented Programming(OOP)\n",
    " An Approach to creating and using models of physical or imagined objects\n",
    "\n",
    "## Class: \n",
    "A Programmer-defined blueprint from which objects are created.\n",
    "A blueprint for how to create an instance of itself\n",
    "**Attributes**: Characteristics of an Object\n",
    "**Behaviors**: Actions that an object can perform\n",
    "**Object**: An instance of the class\n",
    "**Instantiate**: To call the constructor to create an object\n",
    "**Constructor**: A block of code that has the same name as the class and tells the computer how to create a new object.\n",
    "**Reference Variable**: A variable that points to an object\n",
    "**State**: The Attributes represented by the object's instance variables\n",
    "\n",
    "## Camel Case: \n",
    "Naming convention where the first letter of the first word is upper or lowercase, and the first letter of each additional word is uppercase\n",
    "\n",
    "## Calling Methods\n",
    "**Methods**: A named set of instructions to perform a task\n",
    "**Parameter**: A variable in the method that defines the type of value to receive when the method is called.\n",
    "\n",
    "Begins with the name of the object, a dot operator, name of the method, and an argument within parentheses\n",
    "\n",
    "**Dot Operator**: Used to call a method in a class\n",
    "**Argument**: Value passed to a method when the method is called.\n",
    "### Types of Values\n",
    "1. **Numbers**: Integers, Floats, Doubles\n",
    "1. **Text**: String, Characters\n",
    "1. **True or False**: Boolean\n",
    "\n",
    "\n",
    "*Taken from CSA: Object-Oriented Programming, CSA: Creating Objects, and CSA: Calling Methods by Code.org*"
   ]
  },
  {
   "cell_type": "code",
   "execution_count": 1,
   "metadata": {},
   "outputs": [
    {
     "name": "stdout",
     "output_type": "stream",
     "text": [
      "Hello\n"
     ]
    }
   ],
   "source": [
    "System.out.println(\"Hello\")"
   ]
  }
 ],
 "metadata": {
  "kernelspec": {
   "display_name": "Java",
   "language": "java",
   "name": "java"
  },
  "language_info": {
   "codemirror_mode": "java",
   "file_extension": ".jshell",
   "mimetype": "text/x-java-source",
   "name": "java",
   "pygments_lexer": "java",
   "version": "3.9.12"
  },
  "orig_nbformat": 4,
  "vscode": {
   "interpreter": {
    "hash": "f1a07173de9e45ae77428ad21e722ac547f9bf5feaf07dd7a32704a7f43ed07e"
   }
  }
 },
 "nbformat": 4,
 "nbformat_minor": 2
}
